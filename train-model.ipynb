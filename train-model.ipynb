{
 "cells": [
  {
   "cell_type": "code",
   "execution_count": 65,
   "metadata": {},
   "outputs": [],
   "source": [
    "import pandas as pd\n",
    "import tensorflow as tf\n",
    "import numpy as np"
   ]
  },
  {
   "cell_type": "code",
   "execution_count": 66,
   "metadata": {},
   "outputs": [],
   "source": [
    "data = pd.read_csv('encoded_data.csv', index_col='index')"
   ]
  },
  {
   "cell_type": "code",
   "execution_count": 68,
   "metadata": {},
   "outputs": [],
   "source": [
    "X = data.drop('renewable',axis=1)\n",
    "y = data['renewable']"
   ]
  },
  {
   "cell_type": "code",
   "execution_count": 69,
   "metadata": {},
   "outputs": [],
   "source": [
    "X=(X-X.min())/(X.max()-X.min())"
   ]
  },
  {
   "cell_type": "code",
   "execution_count": 70,
   "metadata": {},
   "outputs": [],
   "source": [
    "from sklearn.model_selection import train_test_split\n",
    "X_train, X_valid, y_train, y_valid = train_test_split(X, y, test_size=0.25)"
   ]
  },
  {
   "cell_type": "code",
   "execution_count": 71,
   "metadata": {},
   "outputs": [
    {
     "name": "stderr",
     "output_type": "stream",
     "text": [
      "c:\\Users\\suyas\\AppData\\Local\\Programs\\Python\\Python310\\lib\\site-packages\\xgboost\\sklearn.py:835: UserWarning: `early_stopping_rounds` in `fit` method is deprecated for better compatibility with scikit-learn, use `early_stopping_rounds` in constructor or`set_params` instead.\n",
      "  warnings.warn(\n"
     ]
    },
    {
     "name": "stdout",
     "output_type": "stream",
     "text": [
      "[0]\tvalidation_0-rmse:6768.73331\tvalidation_1-rmse:6730.22036\n",
      "[1]\tvalidation_0-rmse:6722.64142\tvalidation_1-rmse:6683.56405\n",
      "[2]\tvalidation_0-rmse:6677.15798\tvalidation_1-rmse:6637.51789\n",
      "[3]\tvalidation_0-rmse:6632.27439\tvalidation_1-rmse:6592.08069\n",
      "[4]\tvalidation_0-rmse:6587.98700\tvalidation_1-rmse:6547.24342\n",
      "[5]\tvalidation_0-rmse:6544.29212\tvalidation_1-rmse:6502.99331\n",
      "[6]\tvalidation_0-rmse:6501.15310\tvalidation_1-rmse:6459.32535\n",
      "[7]\tvalidation_0-rmse:6458.61822\tvalidation_1-rmse:6416.24585\n",
      "[8]\tvalidation_0-rmse:6416.63004\tvalidation_1-rmse:6373.72129\n",
      "[9]\tvalidation_0-rmse:6375.23665\tvalidation_1-rmse:6331.76962\n",
      "[10]\tvalidation_0-rmse:6334.37600\tvalidation_1-rmse:6290.38315\n",
      "[11]\tvalidation_0-rmse:6294.09825\tvalidation_1-rmse:6249.55065\n",
      "[12]\tvalidation_0-rmse:6254.34128\tvalidation_1-rmse:6209.26956\n",
      "[13]\tvalidation_0-rmse:6215.12961\tvalidation_1-rmse:6169.53765\n",
      "[14]\tvalidation_0-rmse:6176.48096\tvalidation_1-rmse:6130.34284\n",
      "[15]\tvalidation_0-rmse:6138.36457\tvalidation_1-rmse:6091.68754\n",
      "[16]\tvalidation_0-rmse:6100.74771\tvalidation_1-rmse:6053.55525\n",
      "[17]\tvalidation_0-rmse:6063.68146\tvalidation_1-rmse:6015.94800\n",
      "[18]\tvalidation_0-rmse:6027.12761\tvalidation_1-rmse:5978.86493\n",
      "[19]\tvalidation_0-rmse:5991.05995\tvalidation_1-rmse:5942.28601\n",
      "[20]\tvalidation_0-rmse:5955.52337\tvalidation_1-rmse:5906.22623\n",
      "[21]\tvalidation_0-rmse:5920.46046\tvalidation_1-rmse:5870.65654\n",
      "[22]\tvalidation_0-rmse:5885.91771\tvalidation_1-rmse:5835.59534\n",
      "[23]\tvalidation_0-rmse:5851.83803\tvalidation_1-rmse:5801.02155\n",
      "[24]\tvalidation_0-rmse:5818.24089\tvalidation_1-rmse:5766.92733\n",
      "[25]\tvalidation_0-rmse:5785.15059\tvalidation_1-rmse:5733.32360\n",
      "[26]\tvalidation_0-rmse:5752.49560\tvalidation_1-rmse:5700.19572\n",
      "[27]\tvalidation_0-rmse:5720.33706\tvalidation_1-rmse:5667.54226\n",
      "[28]\tvalidation_0-rmse:5688.61881\tvalidation_1-rmse:5635.32893\n",
      "[29]\tvalidation_0-rmse:5657.33259\tvalidation_1-rmse:5603.56756\n",
      "[30]\tvalidation_0-rmse:5626.50827\tvalidation_1-rmse:5572.24272\n",
      "[31]\tvalidation_0-rmse:5596.09558\tvalidation_1-rmse:5541.36008\n",
      "[32]\tvalidation_0-rmse:5566.14124\tvalidation_1-rmse:5510.92491\n",
      "[33]\tvalidation_0-rmse:5536.57356\tvalidation_1-rmse:5480.84233\n",
      "[34]\tvalidation_0-rmse:5507.46258\tvalidation_1-rmse:5451.25743\n",
      "[35]\tvalidation_0-rmse:5478.73694\tvalidation_1-rmse:5422.03542\n",
      "[36]\tvalidation_0-rmse:5450.44830\tvalidation_1-rmse:5393.26449\n",
      "[37]\tvalidation_0-rmse:5422.53888\tvalidation_1-rmse:5364.86589\n",
      "[38]\tvalidation_0-rmse:5395.03843\tvalidation_1-rmse:5336.91754\n",
      "[39]\tvalidation_0-rmse:5367.95101\tvalidation_1-rmse:5309.36490\n",
      "[40]\tvalidation_0-rmse:5341.23678\tvalidation_1-rmse:5282.16457\n",
      "[41]\tvalidation_0-rmse:5314.93991\tvalidation_1-rmse:5255.41498\n",
      "[42]\tvalidation_0-rmse:5288.97515\tvalidation_1-rmse:5228.97773\n",
      "[43]\tvalidation_0-rmse:5263.42601\tvalidation_1-rmse:5202.97162\n",
      "[44]\tvalidation_0-rmse:5238.23218\tvalidation_1-rmse:5177.30561\n",
      "[45]\tvalidation_0-rmse:5213.42915\tvalidation_1-rmse:5152.07544\n",
      "[46]\tvalidation_0-rmse:5188.94960\tvalidation_1-rmse:5127.13774\n",
      "[47]\tvalidation_0-rmse:5164.86891\tvalidation_1-rmse:5102.60934\n",
      "[48]\tvalidation_0-rmse:5141.14768\tvalidation_1-rmse:5078.46417\n",
      "[49]\tvalidation_0-rmse:5117.75662\tvalidation_1-rmse:5054.62236\n",
      "[50]\tvalidation_0-rmse:5094.72020\tvalidation_1-rmse:5031.16994\n",
      "[51]\tvalidation_0-rmse:5072.00820\tvalidation_1-rmse:5008.00319\n",
      "[52]\tvalidation_0-rmse:5049.66832\tvalidation_1-rmse:4985.25147\n",
      "[53]\tvalidation_0-rmse:5027.64342\tvalidation_1-rmse:4962.78969\n",
      "[54]\tvalidation_0-rmse:5005.95041\tvalidation_1-rmse:4940.69921\n",
      "[55]\tvalidation_0-rmse:4984.57319\tvalidation_1-rmse:4918.87923\n",
      "[56]\tvalidation_0-rmse:4963.55766\tvalidation_1-rmse:4897.45296\n",
      "[57]\tvalidation_0-rmse:4942.82550\tvalidation_1-rmse:4876.29310\n",
      "[58]\tvalidation_0-rmse:4922.41663\tvalidation_1-rmse:4855.49770\n",
      "[59]\tvalidation_0-rmse:4902.32388\tvalidation_1-rmse:4834.99179\n",
      "[60]\tvalidation_0-rmse:4882.53228\tvalidation_1-rmse:4814.78142\n",
      "[61]\tvalidation_0-rmse:4863.06063\tvalidation_1-rmse:4794.92125\n",
      "[62]\tvalidation_0-rmse:4843.86545\tvalidation_1-rmse:4775.34493\n",
      "[63]\tvalidation_0-rmse:4824.98100\tvalidation_1-rmse:4756.07938\n",
      "[64]\tvalidation_0-rmse:4806.39684\tvalidation_1-rmse:4737.10886\n",
      "[65]\tvalidation_0-rmse:4788.08234\tvalidation_1-rmse:4718.42431\n",
      "[66]\tvalidation_0-rmse:4770.03287\tvalidation_1-rmse:4699.98238\n",
      "[67]\tvalidation_0-rmse:4752.28640\tvalidation_1-rmse:4681.85745\n",
      "[68]\tvalidation_0-rmse:4734.81511\tvalidation_1-rmse:4664.01930\n",
      "[69]\tvalidation_0-rmse:4717.62122\tvalidation_1-rmse:4646.46589\n",
      "[70]\tvalidation_0-rmse:4700.68790\tvalidation_1-rmse:4629.17750\n",
      "[71]\tvalidation_0-rmse:4683.99264\tvalidation_1-rmse:4612.09282\n",
      "[72]\tvalidation_0-rmse:4667.59626\tvalidation_1-rmse:4595.34863\n",
      "[73]\tvalidation_0-rmse:4651.46706\tvalidation_1-rmse:4578.87590\n",
      "[74]\tvalidation_0-rmse:4635.56919\tvalidation_1-rmse:4562.62897\n",
      "[75]\tvalidation_0-rmse:4619.92271\tvalidation_1-rmse:4546.63357\n",
      "[76]\tvalidation_0-rmse:4604.55349\tvalidation_1-rmse:4530.91645\n",
      "[77]\tvalidation_0-rmse:4589.41824\tvalidation_1-rmse:4515.45580\n",
      "[78]\tvalidation_0-rmse:4574.48437\tvalidation_1-rmse:4500.16862\n",
      "[79]\tvalidation_0-rmse:4559.82852\tvalidation_1-rmse:4485.17002\n",
      "[80]\tvalidation_0-rmse:4545.40885\tvalidation_1-rmse:4470.42231\n",
      "[81]\tvalidation_0-rmse:4531.22309\tvalidation_1-rmse:4455.92517\n",
      "[82]\tvalidation_0-rmse:4517.25888\tvalidation_1-rmse:4441.63818\n",
      "[83]\tvalidation_0-rmse:4503.51167\tvalidation_1-rmse:4427.57159\n",
      "[84]\tvalidation_0-rmse:4489.98381\tvalidation_1-rmse:4413.71187\n",
      "[85]\tvalidation_0-rmse:4476.70911\tvalidation_1-rmse:4400.13724\n",
      "[86]\tvalidation_0-rmse:4463.62064\tvalidation_1-rmse:4386.73926\n",
      "[87]\tvalidation_0-rmse:4450.74839\tvalidation_1-rmse:4373.55874\n",
      "[88]\tvalidation_0-rmse:4438.10198\tvalidation_1-rmse:4360.61559\n",
      "[89]\tvalidation_0-rmse:4424.80886\tvalidation_1-rmse:4347.00737\n",
      "[90]\tvalidation_0-rmse:4411.74884\tvalidation_1-rmse:4333.64612\n",
      "[91]\tvalidation_0-rmse:4399.69611\tvalidation_1-rmse:4321.31786\n",
      "[92]\tvalidation_0-rmse:4387.05871\tvalidation_1-rmse:4308.39630\n",
      "[93]\tvalidation_0-rmse:4375.35718\tvalidation_1-rmse:4296.39348\n",
      "[94]\tvalidation_0-rmse:4363.87592\tvalidation_1-rmse:4284.62398\n",
      "[95]\tvalidation_0-rmse:4351.82308\tvalidation_1-rmse:4272.30223\n",
      "[96]\tvalidation_0-rmse:4340.71113\tvalidation_1-rmse:4260.90539\n",
      "[97]\tvalidation_0-rmse:4329.00333\tvalidation_1-rmse:4248.90748\n",
      "[98]\tvalidation_0-rmse:4318.25528\tvalidation_1-rmse:4237.88726\n",
      "[99]\tvalidation_0-rmse:4306.95228\tvalidation_1-rmse:4226.32732\n",
      "[100]\tvalidation_0-rmse:4296.52880\tvalidation_1-rmse:4215.63129\n",
      "[101]\tvalidation_0-rmse:4285.57784\tvalidation_1-rmse:4204.41847\n",
      "[102]\tvalidation_0-rmse:4275.52632\tvalidation_1-rmse:4194.10567\n",
      "[103]\tvalidation_0-rmse:4264.92194\tvalidation_1-rmse:4183.25453\n",
      "[104]\tvalidation_0-rmse:4254.48173\tvalidation_1-rmse:4172.54961\n",
      "[105]\tvalidation_0-rmse:4244.91784\tvalidation_1-rmse:4162.74561\n",
      "[106]\tvalidation_0-rmse:4234.83474\tvalidation_1-rmse:4152.41778\n",
      "[107]\tvalidation_0-rmse:4225.56123\tvalidation_1-rmse:4142.91123\n",
      "[108]\tvalidation_0-rmse:4216.43975\tvalidation_1-rmse:4133.55085\n",
      "[109]\tvalidation_0-rmse:4206.83088\tvalidation_1-rmse:4123.70584\n",
      "[110]\tvalidation_0-rmse:4198.00776\tvalidation_1-rmse:4114.63936\n",
      "[111]\tvalidation_0-rmse:4188.69933\tvalidation_1-rmse:4105.09755\n",
      "[112]\tvalidation_0-rmse:4180.17460\tvalidation_1-rmse:4096.35986\n",
      "[113]\tvalidation_0-rmse:4171.17183\tvalidation_1-rmse:4087.13477\n",
      "[114]\tvalidation_0-rmse:4162.90869\tvalidation_1-rmse:4078.63095\n",
      "[115]\tvalidation_0-rmse:4154.21260\tvalidation_1-rmse:4069.71749\n",
      "[116]\tvalidation_0-rmse:4146.24153\tvalidation_1-rmse:4061.53833\n",
      "[117]\tvalidation_0-rmse:4137.81467\tvalidation_1-rmse:4052.89798\n",
      "[118]\tvalidation_0-rmse:4130.09309\tvalidation_1-rmse:4044.95444\n",
      "[119]\tvalidation_0-rmse:4121.95467\tvalidation_1-rmse:4036.61013\n",
      "[120]\tvalidation_0-rmse:4113.95036\tvalidation_1-rmse:4028.40349\n",
      "[121]\tvalidation_0-rmse:4106.62641\tvalidation_1-rmse:4020.88542\n",
      "[122]\tvalidation_0-rmse:4098.86849\tvalidation_1-rmse:4012.91631\n",
      "[123]\tvalidation_0-rmse:4091.78252\tvalidation_1-rmse:4005.63772\n",
      "[124]\tvalidation_0-rmse:4084.83130\tvalidation_1-rmse:3998.49831\n",
      "[125]\tvalidation_0-rmse:4077.45438\tvalidation_1-rmse:3990.93890\n",
      "[126]\tvalidation_0-rmse:4070.72917\tvalidation_1-rmse:3984.03366\n",
      "[127]\tvalidation_0-rmse:4063.59895\tvalidation_1-rmse:3976.71875\n",
      "[128]\tvalidation_0-rmse:4057.08228\tvalidation_1-rmse:3970.00906\n",
      "[129]\tvalidation_0-rmse:4050.19544\tvalidation_1-rmse:3962.94415\n",
      "[130]\tvalidation_0-rmse:4043.88744\tvalidation_1-rmse:3956.44466\n",
      "[131]\tvalidation_0-rmse:4037.23250\tvalidation_1-rmse:3949.61841\n",
      "[132]\tvalidation_0-rmse:4031.16006\tvalidation_1-rmse:3943.37247\n",
      "[133]\tvalidation_0-rmse:4024.71680\tvalidation_1-rmse:3936.76604\n",
      "[134]\tvalidation_0-rmse:4018.32738\tvalidation_1-rmse:3930.20538\n",
      "[135]\tvalidation_0-rmse:4012.56542\tvalidation_1-rmse:3924.28220\n",
      "[136]\tvalidation_0-rmse:4006.43386\tvalidation_1-rmse:3917.98687\n",
      "[137]\tvalidation_0-rmse:4000.85343\tvalidation_1-rmse:3912.25048\n",
      "[138]\tvalidation_0-rmse:3995.37751\tvalidation_1-rmse:3906.61360\n",
      "[139]\tvalidation_0-rmse:3989.56263\tvalidation_1-rmse:3900.65077\n",
      "[140]\tvalidation_0-rmse:3984.20469\tvalidation_1-rmse:3895.13012\n",
      "[141]\tvalidation_0-rmse:3978.55904\tvalidation_1-rmse:3889.32367\n",
      "[142]\tvalidation_0-rmse:3973.44055\tvalidation_1-rmse:3884.06723\n",
      "[143]\tvalidation_0-rmse:3967.94537\tvalidation_1-rmse:3878.41889\n",
      "[144]\tvalidation_0-rmse:3963.00251\tvalidation_1-rmse:3873.32724\n",
      "[145]\tvalidation_0-rmse:3957.74285\tvalidation_1-rmse:3867.92781\n",
      "[146]\tvalidation_0-rmse:3952.91259\tvalidation_1-rmse:3862.95071\n",
      "[147]\tvalidation_0-rmse:3947.83363\tvalidation_1-rmse:3857.73686\n",
      "[148]\tvalidation_0-rmse:3943.16753\tvalidation_1-rmse:3852.92671\n",
      "[149]\tvalidation_0-rmse:3938.25909\tvalidation_1-rmse:3847.88422\n",
      "[150]\tvalidation_0-rmse:3933.41873\tvalidation_1-rmse:3842.91442\n",
      "[151]\tvalidation_0-rmse:3929.02550\tvalidation_1-rmse:3838.39434\n",
      "[152]\tvalidation_0-rmse:3924.70955\tvalidation_1-rmse:3833.94728\n",
      "[153]\tvalidation_0-rmse:3920.47445\tvalidation_1-rmse:3829.59434\n",
      "[154]\tvalidation_0-rmse:3915.90388\tvalidation_1-rmse:3824.89082\n",
      "[155]\tvalidation_0-rmse:3911.45130\tvalidation_1-rmse:3820.31847\n",
      "[156]\tvalidation_0-rmse:3907.43158\tvalidation_1-rmse:3816.17719\n",
      "[157]\tvalidation_0-rmse:3903.47025\tvalidation_1-rmse:3812.09658\n",
      "[158]\tvalidation_0-rmse:3899.56437\tvalidation_1-rmse:3808.06988\n",
      "[159]\tvalidation_0-rmse:3895.39186\tvalidation_1-rmse:3803.78383\n",
      "[160]\tvalidation_0-rmse:3891.31177\tvalidation_1-rmse:3799.58616\n",
      "[161]\tvalidation_0-rmse:3887.60992\tvalidation_1-rmse:3795.76881\n",
      "[162]\tvalidation_0-rmse:3883.92409\tvalidation_1-rmse:3791.97244\n",
      "[163]\tvalidation_0-rmse:3880.04399\tvalidation_1-rmse:3787.98675\n",
      "[164]\tvalidation_0-rmse:3876.48165\tvalidation_1-rmse:3784.30946\n",
      "[165]\tvalidation_0-rmse:3872.72738\tvalidation_1-rmse:3780.45086\n",
      "[166]\tvalidation_0-rmse:3869.32246\tvalidation_1-rmse:3776.94683\n",
      "[167]\tvalidation_0-rmse:3865.97902\tvalidation_1-rmse:3773.49930\n",
      "[168]\tvalidation_0-rmse:3862.65359\tvalidation_1-rmse:3770.06698\n",
      "[169]\tvalidation_0-rmse:3859.13983\tvalidation_1-rmse:3766.45177\n",
      "[170]\tvalidation_0-rmse:3855.95222\tvalidation_1-rmse:3763.16999\n",
      "[171]\tvalidation_0-rmse:3852.55452\tvalidation_1-rmse:3759.67604\n",
      "[172]\tvalidation_0-rmse:3849.43921\tvalidation_1-rmse:3756.45808\n",
      "[173]\tvalidation_0-rmse:3846.16115\tvalidation_1-rmse:3753.08430\n",
      "[174]\tvalidation_0-rmse:3843.18371\tvalidation_1-rmse:3750.02064\n",
      "[175]\tvalidation_0-rmse:3839.96114\tvalidation_1-rmse:3746.70267\n",
      "[176]\tvalidation_0-rmse:3837.09602\tvalidation_1-rmse:3743.74652\n",
      "[177]\tvalidation_0-rmse:3834.23711\tvalidation_1-rmse:3740.80224\n",
      "[178]\tvalidation_0-rmse:3831.19866\tvalidation_1-rmse:3737.68116\n",
      "[179]\tvalidation_0-rmse:3828.47844\tvalidation_1-rmse:3734.86609\n",
      "[180]\tvalidation_0-rmse:3825.54282\tvalidation_1-rmse:3731.85056\n",
      "[181]\tvalidation_0-rmse:3822.91699\tvalidation_1-rmse:3729.14766\n",
      "[182]\tvalidation_0-rmse:3820.27344\tvalidation_1-rmse:3726.41298\n",
      "[183]\tvalidation_0-rmse:3817.73985\tvalidation_1-rmse:3723.79447\n",
      "[184]\tvalidation_0-rmse:3814.99939\tvalidation_1-rmse:3720.98067\n",
      "[185]\tvalidation_0-rmse:3812.49905\tvalidation_1-rmse:3718.40165\n",
      "[186]\tvalidation_0-rmse:3809.84226\tvalidation_1-rmse:3715.66873\n",
      "[187]\tvalidation_0-rmse:3807.46826\tvalidation_1-rmse:3713.21659\n",
      "[188]\tvalidation_0-rmse:3804.89374\tvalidation_1-rmse:3710.57411\n",
      "[189]\tvalidation_0-rmse:3802.57889\tvalidation_1-rmse:3708.19623\n",
      "[190]\tvalidation_0-rmse:3800.06517\tvalidation_1-rmse:3705.61115\n",
      "[191]\tvalidation_0-rmse:3797.83011\tvalidation_1-rmse:3703.30741\n",
      "[192]\tvalidation_0-rmse:3795.35150\tvalidation_1-rmse:3700.75949\n",
      "[193]\tvalidation_0-rmse:3793.20571\tvalidation_1-rmse:3698.54830\n",
      "[194]\tvalidation_0-rmse:3790.80079\tvalidation_1-rmse:3696.07742\n",
      "[195]\tvalidation_0-rmse:3788.41213\tvalidation_1-rmse:3693.62116\n",
      "[196]\tvalidation_0-rmse:3786.36376\tvalidation_1-rmse:3691.50182\n",
      "[197]\tvalidation_0-rmse:3784.08249\tvalidation_1-rmse:3689.15697\n",
      "[198]\tvalidation_0-rmse:3782.10233\tvalidation_1-rmse:3687.11323\n",
      "[199]\tvalidation_0-rmse:3779.89571\tvalidation_1-rmse:3684.84605\n",
      "[200]\tvalidation_0-rmse:3777.70189\tvalidation_1-rmse:3682.58729\n",
      "[201]\tvalidation_0-rmse:3775.80906\tvalidation_1-rmse:3680.63936\n",
      "[202]\tvalidation_0-rmse:3773.72939\tvalidation_1-rmse:3678.49871\n",
      "[203]\tvalidation_0-rmse:3771.90700\tvalidation_1-rmse:3676.61149\n",
      "[204]\tvalidation_0-rmse:3769.85256\tvalidation_1-rmse:3674.49841\n",
      "[205]\tvalidation_0-rmse:3767.86680\tvalidation_1-rmse:3672.45402\n",
      "[206]\tvalidation_0-rmse:3766.08742\tvalidation_1-rmse:3670.62049\n",
      "[207]\tvalidation_0-rmse:3764.18013\tvalidation_1-rmse:3668.65802\n",
      "[208]\tvalidation_0-rmse:3762.49149\tvalidation_1-rmse:3666.91308\n",
      "[209]\tvalidation_0-rmse:3760.63344\tvalidation_1-rmse:3665.00000\n",
      "[210]\tvalidation_0-rmse:3758.97436\tvalidation_1-rmse:3663.29240\n",
      "[211]\tvalidation_0-rmse:3757.17827\tvalidation_1-rmse:3661.44306\n",
      "[212]\tvalidation_0-rmse:3755.38835\tvalidation_1-rmse:3659.60187\n",
      "[213]\tvalidation_0-rmse:3753.84099\tvalidation_1-rmse:3658.00950\n",
      "[214]\tvalidation_0-rmse:3752.14171\tvalidation_1-rmse:3656.26111\n",
      "[215]\tvalidation_0-rmse:3750.63278\tvalidation_1-rmse:3654.69434\n",
      "[216]\tvalidation_0-rmse:3748.95638\tvalidation_1-rmse:3652.96776\n",
      "[217]\tvalidation_0-rmse:3747.49157\tvalidation_1-rmse:3651.45079\n",
      "[218]\tvalidation_0-rmse:3745.90974\tvalidation_1-rmse:3649.82445\n",
      "[219]\tvalidation_0-rmse:3744.34276\tvalidation_1-rmse:3648.21338\n",
      "[220]\tvalidation_0-rmse:3742.95564\tvalidation_1-rmse:3646.78533\n",
      "[221]\tvalidation_0-rmse:3741.41505\tvalidation_1-rmse:3645.20065\n",
      "[222]\tvalidation_0-rmse:3740.07385\tvalidation_1-rmse:3643.81373\n",
      "[223]\tvalidation_0-rmse:3738.60302\tvalidation_1-rmse:3642.30212\n",
      "[224]\tvalidation_0-rmse:3737.17620\tvalidation_1-rmse:3640.82883\n",
      "[225]\tvalidation_0-rmse:3735.88837\tvalidation_1-rmse:3639.50427\n",
      "[226]\tvalidation_0-rmse:3734.49426\tvalidation_1-rmse:3638.06692\n",
      "[227]\tvalidation_0-rmse:3733.22291\tvalidation_1-rmse:3636.74850\n",
      "[228]\tvalidation_0-rmse:3731.87563\tvalidation_1-rmse:3635.35666\n",
      "[229]\tvalidation_0-rmse:3730.64712\tvalidation_1-rmse:3634.08841\n",
      "[230]\tvalidation_0-rmse:3729.35219\tvalidation_1-rmse:3632.75863\n",
      "[231]\tvalidation_0-rmse:3728.06645\tvalidation_1-rmse:3631.43265\n",
      "[232]\tvalidation_0-rmse:3726.89473\tvalidation_1-rmse:3630.21914\n",
      "[233]\tvalidation_0-rmse:3725.66416\tvalidation_1-rmse:3628.95522\n",
      "[234]\tvalidation_0-rmse:3724.52543\tvalidation_1-rmse:3627.77860\n",
      "[235]\tvalidation_0-rmse:3723.33278\tvalidation_1-rmse:3626.54587\n",
      "[236]\tvalidation_0-rmse:3722.25155\tvalidation_1-rmse:3625.42902\n",
      "[237]\tvalidation_0-rmse:3721.08587\tvalidation_1-rmse:3624.22796\n",
      "[238]\tvalidation_0-rmse:3719.93878\tvalidation_1-rmse:3623.04466\n",
      "[239]\tvalidation_0-rmse:3718.91312\tvalidation_1-rmse:3621.99025\n",
      "[240]\tvalidation_0-rmse:3717.80265\tvalidation_1-rmse:3620.84920\n",
      "[241]\tvalidation_0-rmse:3716.80723\tvalidation_1-rmse:3619.81728\n",
      "[242]\tvalidation_0-rmse:3715.71010\tvalidation_1-rmse:3618.68224\n",
      "[243]\tvalidation_0-rmse:3714.65754\tvalidation_1-rmse:3617.59965\n",
      "[244]\tvalidation_0-rmse:3713.68766\tvalidation_1-rmse:3616.59992\n",
      "[245]\tvalidation_0-rmse:3712.67781\tvalidation_1-rmse:3615.55800\n",
      "[246]\tvalidation_0-rmse:3711.73227\tvalidation_1-rmse:3614.57793\n",
      "[247]\tvalidation_0-rmse:3710.75449\tvalidation_1-rmse:3613.57345\n",
      "[248]\tvalidation_0-rmse:3709.84193\tvalidation_1-rmse:3612.62641\n",
      "[249]\tvalidation_0-rmse:3708.89331\tvalidation_1-rmse:3611.64449\n"
     ]
    },
    {
     "data": {
      "text/html": [
       "<style>#sk-container-id-6 {color: black;}#sk-container-id-6 pre{padding: 0;}#sk-container-id-6 div.sk-toggleable {background-color: white;}#sk-container-id-6 label.sk-toggleable__label {cursor: pointer;display: block;width: 100%;margin-bottom: 0;padding: 0.3em;box-sizing: border-box;text-align: center;}#sk-container-id-6 label.sk-toggleable__label-arrow:before {content: \"▸\";float: left;margin-right: 0.25em;color: #696969;}#sk-container-id-6 label.sk-toggleable__label-arrow:hover:before {color: black;}#sk-container-id-6 div.sk-estimator:hover label.sk-toggleable__label-arrow:before {color: black;}#sk-container-id-6 div.sk-toggleable__content {max-height: 0;max-width: 0;overflow: hidden;text-align: left;background-color: #f0f8ff;}#sk-container-id-6 div.sk-toggleable__content pre {margin: 0.2em;color: black;border-radius: 0.25em;background-color: #f0f8ff;}#sk-container-id-6 input.sk-toggleable__control:checked~div.sk-toggleable__content {max-height: 200px;max-width: 100%;overflow: auto;}#sk-container-id-6 input.sk-toggleable__control:checked~label.sk-toggleable__label-arrow:before {content: \"▾\";}#sk-container-id-6 div.sk-estimator input.sk-toggleable__control:checked~label.sk-toggleable__label {background-color: #d4ebff;}#sk-container-id-6 div.sk-label input.sk-toggleable__control:checked~label.sk-toggleable__label {background-color: #d4ebff;}#sk-container-id-6 input.sk-hidden--visually {border: 0;clip: rect(1px 1px 1px 1px);clip: rect(1px, 1px, 1px, 1px);height: 1px;margin: -1px;overflow: hidden;padding: 0;position: absolute;width: 1px;}#sk-container-id-6 div.sk-estimator {font-family: monospace;background-color: #f0f8ff;border: 1px dotted black;border-radius: 0.25em;box-sizing: border-box;margin-bottom: 0.5em;}#sk-container-id-6 div.sk-estimator:hover {background-color: #d4ebff;}#sk-container-id-6 div.sk-parallel-item::after {content: \"\";width: 100%;border-bottom: 1px solid gray;flex-grow: 1;}#sk-container-id-6 div.sk-label:hover label.sk-toggleable__label {background-color: #d4ebff;}#sk-container-id-6 div.sk-serial::before {content: \"\";position: absolute;border-left: 1px solid gray;box-sizing: border-box;top: 0;bottom: 0;left: 50%;z-index: 0;}#sk-container-id-6 div.sk-serial {display: flex;flex-direction: column;align-items: center;background-color: white;padding-right: 0.2em;padding-left: 0.2em;position: relative;}#sk-container-id-6 div.sk-item {position: relative;z-index: 1;}#sk-container-id-6 div.sk-parallel {display: flex;align-items: stretch;justify-content: center;background-color: white;position: relative;}#sk-container-id-6 div.sk-item::before, #sk-container-id-6 div.sk-parallel-item::before {content: \"\";position: absolute;border-left: 1px solid gray;box-sizing: border-box;top: 0;bottom: 0;left: 50%;z-index: -1;}#sk-container-id-6 div.sk-parallel-item {display: flex;flex-direction: column;z-index: 1;position: relative;background-color: white;}#sk-container-id-6 div.sk-parallel-item:first-child::after {align-self: flex-end;width: 50%;}#sk-container-id-6 div.sk-parallel-item:last-child::after {align-self: flex-start;width: 50%;}#sk-container-id-6 div.sk-parallel-item:only-child::after {width: 0;}#sk-container-id-6 div.sk-dashed-wrapped {border: 1px dashed gray;margin: 0 0.4em 0.5em 0.4em;box-sizing: border-box;padding-bottom: 0.4em;background-color: white;}#sk-container-id-6 div.sk-label label {font-family: monospace;font-weight: bold;display: inline-block;line-height: 1.2em;}#sk-container-id-6 div.sk-label-container {text-align: center;}#sk-container-id-6 div.sk-container {/* jupyter's `normalize.less` sets `[hidden] { display: none; }` but bootstrap.min.css set `[hidden] { display: none !important; }` so we also need the `!important` here to be able to override the default hidden behavior on the sphinx rendered scikit-learn.org. See: https://github.com/scikit-learn/scikit-learn/issues/21755 */display: inline-block !important;position: relative;}#sk-container-id-6 div.sk-text-repr-fallback {display: none;}</style><div id=\"sk-container-id-6\" class=\"sk-top-container\"><div class=\"sk-text-repr-fallback\"><pre>XGBRegressor(base_score=None, booster=None, callbacks=None,\n",
       "             colsample_bylevel=None, colsample_bynode=None,\n",
       "             colsample_bytree=None, early_stopping_rounds=None,\n",
       "             enable_categorical=False, eval_metric=None, feature_types=None,\n",
       "             gamma=None, gpu_id=None, grow_policy=None, importance_type=None,\n",
       "             interaction_constraints=None, learning_rate=0.01, max_bin=None,\n",
       "             max_cat_threshold=None, max_cat_to_onehot=None,\n",
       "             max_delta_step=None, max_depth=5, max_leaves=None,\n",
       "             min_child_weight=None, missing=nan, monotone_constraints=None,\n",
       "             n_estimators=250, n_jobs=None, num_parallel_tree=None,\n",
       "             predictor=None, random_state=None, ...)</pre><b>In a Jupyter environment, please rerun this cell to show the HTML representation or trust the notebook. <br />On GitHub, the HTML representation is unable to render, please try loading this page with nbviewer.org.</b></div><div class=\"sk-container\" hidden><div class=\"sk-item\"><div class=\"sk-estimator sk-toggleable\"><input class=\"sk-toggleable__control sk-hidden--visually\" id=\"sk-estimator-id-6\" type=\"checkbox\" checked><label for=\"sk-estimator-id-6\" class=\"sk-toggleable__label sk-toggleable__label-arrow\">XGBRegressor</label><div class=\"sk-toggleable__content\"><pre>XGBRegressor(base_score=None, booster=None, callbacks=None,\n",
       "             colsample_bylevel=None, colsample_bynode=None,\n",
       "             colsample_bytree=None, early_stopping_rounds=None,\n",
       "             enable_categorical=False, eval_metric=None, feature_types=None,\n",
       "             gamma=None, gpu_id=None, grow_policy=None, importance_type=None,\n",
       "             interaction_constraints=None, learning_rate=0.01, max_bin=None,\n",
       "             max_cat_threshold=None, max_cat_to_onehot=None,\n",
       "             max_delta_step=None, max_depth=5, max_leaves=None,\n",
       "             min_child_weight=None, missing=nan, monotone_constraints=None,\n",
       "             n_estimators=250, n_jobs=None, num_parallel_tree=None,\n",
       "             predictor=None, random_state=None, ...)</pre></div></div></div></div></div>"
      ],
      "text/plain": [
       "XGBRegressor(base_score=None, booster=None, callbacks=None,\n",
       "             colsample_bylevel=None, colsample_bynode=None,\n",
       "             colsample_bytree=None, early_stopping_rounds=None,\n",
       "             enable_categorical=False, eval_metric=None, feature_types=None,\n",
       "             gamma=None, gpu_id=None, grow_policy=None, importance_type=None,\n",
       "             interaction_constraints=None, learning_rate=0.01, max_bin=None,\n",
       "             max_cat_threshold=None, max_cat_to_onehot=None,\n",
       "             max_delta_step=None, max_depth=5, max_leaves=None,\n",
       "             min_child_weight=None, missing=nan, monotone_constraints=None,\n",
       "             n_estimators=250, n_jobs=None, num_parallel_tree=None,\n",
       "             predictor=None, random_state=None, ...)"
      ]
     },
     "execution_count": 71,
     "metadata": {},
     "output_type": "execute_result"
    }
   ],
   "source": [
    "import xgboost as xgb\n",
    "model = xgb.XGBRegressor(n_estimators=250, max_depth=5, learning_rate=0.01)\n",
    "model.fit(X_train, y_train, \n",
    "          eval_set=[(X_train, y_train), (X_valid, y_valid)], \n",
    "          early_stopping_rounds=20)"
   ]
  },
  {
   "cell_type": "code",
   "execution_count": 72,
   "metadata": {},
   "outputs": [
    {
     "name": "stdout",
     "output_type": "stream",
     "text": [
      "Mean Absolute Percentage Error: 1.1331960689508747\n"
     ]
    }
   ],
   "source": [
    "from sklearn.metrics import mean_absolute_percentage_error\n",
    "predictions = model.predict(X_valid)\n",
    "print(\"Mean Absolute Percentage Error: \" + str(mean_absolute_percentage_error(predictions, y_valid)))"
   ]
  },
  {
   "cell_type": "code",
   "execution_count": 73,
   "metadata": {},
   "outputs": [
    {
     "name": "stdout",
     "output_type": "stream",
     "text": [
      "[ 1088.289    2725.675     703.5158  19893.893    5748.5654   1995.7264\n",
      "  3037.5027    703.5158   1004.9615    916.1167    685.6113    906.7338\n",
      "  1004.9615  34884.71     1086.8706    906.7338    916.1167    906.7338\n",
      "   683.0106   1004.14496  1003.35486  4919.574    1086.8706    808.49084\n",
      "  1840.9594   1840.9594   1995.7264    916.1167   4919.574    1088.289\n",
      "   785.90234   808.49084   707.9209    906.7338   1840.9594   1840.9594\n",
      "  2056.9534   1088.289    7612.787     906.7338    656.63873  1995.7264\n",
      "  1840.9594    685.23816  1840.9594   2056.9534   5942.999    1004.9615\n",
      "  1088.289    1840.9594   1004.9615    750.3228   4919.574     658.5451\n",
      "  1004.14496  1840.9594   1003.35486  1086.8706   1004.14496  1086.8706\n",
      "   808.49084  1004.14496  1840.9594   1995.7264   1088.289    1995.7264\n",
      "   683.0106   4614.755     906.7338   5902.187     788.50006   808.49084\n",
      "  1003.35486   808.49084   750.3228   1003.35486  1840.9594   1002.7266\n",
      "  1065.0905   1086.8706    917.7233    721.695    1002.7266   1995.7264\n",
      "  1995.7264    808.49084  5978.282    1023.54443  1995.7264   1840.9594\n",
      "   701.1893   1004.14496  1086.8706   1840.9594   1023.54443  1004.14496\n",
      "   916.1167   1002.7266   1840.9594   6375.2363 ]\n"
     ]
    }
   ],
   "source": [
    "print(predictions[0:100])"
   ]
  },
  {
   "cell_type": "code",
   "execution_count": 74,
   "metadata": {},
   "outputs": [],
   "source": [
    "import matplotlib.pyplot as plt\n",
    "%matplotlib inline\n",
    "import seaborn as sns"
   ]
  },
  {
   "cell_type": "code",
   "execution_count": 75,
   "metadata": {},
   "outputs": [
    {
     "data": {
      "text/plain": [
       "<Axes: xlabel='index', ylabel='renewable'>"
      ]
     },
     "execution_count": 75,
     "metadata": {},
     "output_type": "execute_result"
    },
    {
     "data": {
      "image/png": "[encoded data removed]",
      "text/plain": [
       "<Figure size 1000x500 with 1 Axes>"
      ]
     },
     "metadata": {},
     "output_type": "display_data"
    }
   ],
   "source": [
    "plt.figure(figsize=(10,5))\n",
    "sns.lineplot(data=predictions, label='pred')\n",
    "sns.lineplot(data=y_valid, label='actual')"
   ]
  },
  {
   "cell_type": "code",
   "execution_count": 77,
   "metadata": {},
   "outputs": [],
   "source": [
    "model.save_model('model.json')"
   ]
  }
 ],
 "metadata": {
  "kernelspec": {
   "display_name": "Python 3",
   "language": "python",
   "name": "python3"
  },
  "language_info": {
   "codemirror_mode": {
    "name": "ipython",
    "version": 3
   },
   "file_extension": ".py",
   "mimetype": "text/x-python",
   "name": "python",
   "nbconvert_exporter": "python",
   "pygments_lexer": "ipython3",
   "version": "3.10.6"
  },
  "orig_nbformat": 4
 },
 "nbformat": 4,
 "nbformat_minor": 2
}
